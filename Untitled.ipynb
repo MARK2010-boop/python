{
 "cells": [
  {
   "cell_type": "code",
   "execution_count": 2,
   "id": "ba0161d5-03aa-4b0b-8b52-eca81c2bbdd6",
   "metadata": {},
   "outputs": [
    {
     "name": "stdout",
     "output_type": "stream",
     "text": [
      "its a hot day,stay hydrated!\n"
     ]
    }
   ],
   "source": [
    "temperature = 34\n",
    "if temperature >= 30 :\n",
    "    print (\"its a hot day,stay hydrated!\")\n",
    "if temperature <=29 :\n",
    "    print (\"its a warm day. enjoy the weather!\")\n",
    "    if temperature <= 19 :\n",
    "        print (\"its a cool day. wear a jacket\")\n",
    "        if temperature < 10 :\n",
    "            print (\" its a cold day . stay warm!\")"
   ]
  },
  {
   "cell_type": "code",
   "execution_count": 57,
   "id": "b1b2a67e-eee0-405a-a347-a031b9081200",
   "metadata": {},
   "outputs": [
    {
     "name": "stdout",
     "output_type": "stream",
     "text": [
      "0\n",
      "1\n",
      "2\n",
      "3\n",
      "4\n",
      "5\n",
      "6\n",
      "7\n",
      "8\n",
      "9\n",
      "10\n",
      "11\n",
      "12\n",
      "13\n",
      "14\n",
      "15\n",
      "16\n",
      "17\n",
      "18\n",
      "19\n",
      "20\n"
     ]
    }
   ],
   "source": [
    "for i in range(21):\n",
    "    print(i)"
   ]
  },
  {
   "cell_type": "code",
   "execution_count": null,
   "id": "3f5e7eb7-4a3a-42eb-b6b5-288170520f99",
   "metadata": {},
   "outputs": [],
   "source": []
  }
 ],
 "metadata": {
  "kernelspec": {
   "display_name": "Python 3 (ipykernel)",
   "language": "python",
   "name": "python3"
  },
  "language_info": {
   "codemirror_mode": {
    "name": "ipython",
    "version": 3
   },
   "file_extension": ".py",
   "mimetype": "text/x-python",
   "name": "python",
   "nbconvert_exporter": "python",
   "pygments_lexer": "ipython3",
   "version": "3.12.7"
  }
 },
 "nbformat": 4,
 "nbformat_minor": 5
}
